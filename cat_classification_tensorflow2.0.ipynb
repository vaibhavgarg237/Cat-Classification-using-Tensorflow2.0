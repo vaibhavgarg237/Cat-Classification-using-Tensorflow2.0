{
 "cells": [
  {
   "cell_type": "markdown",
   "metadata": {},
   "source": [
    "IMPORTING LIBRARIES"
   ]
  },
  {
   "cell_type": "code",
   "execution_count": 1,
   "metadata": {},
   "outputs": [
    {
     "name": "stderr",
     "output_type": "stream",
     "text": [
      "Using TensorFlow backend.\n"
     ]
    }
   ],
   "source": [
    "import pandas as pd\n",
    "import numpy as np\n",
    "import tensorflow as tf\n",
    "import keras\n",
    "from keras import regularizers\n",
    "from keras.layers import Conv2D,Activation,Dense,Input, MaxPooling2D , ZeroPadding2D,Flatten\n",
    "from keras.models import Model, load_model,Sequential"
   ]
  },
  {
   "cell_type": "markdown",
   "metadata": {},
   "source": [
    "IMPORTING DATA"
   ]
  },
  {
   "cell_type": "code",
   "execution_count": 2,
   "metadata": {},
   "outputs": [],
   "source": [
    "data=pd.read_csv('FileName2.csv',header=None)\n"
   ]
  },
  {
   "cell_type": "code",
   "execution_count": 3,
   "metadata": {},
   "outputs": [
    {
     "data": {
      "text/plain": [
       "(1692, 1)"
      ]
     },
     "execution_count": 3,
     "metadata": {},
     "output_type": "execute_result"
    }
   ],
   "source": [
    "output=pd.read_csv('catoutput.csv',header=None)\n",
    "output=np.array(output)\n",
    "output.shape"
   ]
  },
  {
   "cell_type": "markdown",
   "metadata": {},
   "source": [
    "\n",
    "NORMALIZING INPUT DATA"
   ]
  },
  {
   "cell_type": "code",
   "execution_count": 4,
   "metadata": {},
   "outputs": [
    {
     "data": {
      "text/plain": [
       "(1692, 100, 100, 3)"
      ]
     },
     "execution_count": 4,
     "metadata": {},
     "output_type": "execute_result"
    }
   ],
   "source": [
    "k=(np.array(data)).reshape(1692,100,100,3)\n",
    "k=k/255\n",
    "k.shape"
   ]
  },
  {
   "cell_type": "markdown",
   "metadata": {},
   "source": [
    "TRAIN /TEST SPLIT"
   ]
  },
  {
   "cell_type": "code",
   "execution_count": 5,
   "metadata": {},
   "outputs": [
    {
     "name": "stdout",
     "output_type": "stream",
     "text": [
      "training data shape :(1200, 100, 100, 3)\n",
      "test data shape :(492, 100, 100, 3)\n"
     ]
    }
   ],
   "source": [
    "train_X = k[:1200,:,:,:]\n",
    "train_Y = output[:1200,:]\n",
    "test_X = k[1200:,:,:,:]\n",
    "test_Y = output[1200:,:]\n",
    "print('training data shape :'+ str(train_X.shape))\n",
    "print('test data shape :'+ str(test_X.shape))"
   ]
  },
  {
   "cell_type": "markdown",
   "metadata": {},
   "source": [
    "# DEFINING MODEL"
   ]
  },
  {
   "cell_type": "code",
   "execution_count": 6,
   "metadata": {},
   "outputs": [
    {
     "name": "stdout",
     "output_type": "stream",
     "text": [
      "Model: \"model_1\"\n",
      "_________________________________________________________________\n",
      "Layer (type)                 Output Shape              Param #   \n",
      "=================================================================\n",
      "input_1 (InputLayer)         (None, 100, 100, 3)       0         \n",
      "_________________________________________________________________\n",
      "conv2d_1 (Conv2D)            (None, 100, 100, 8)       392       \n",
      "_________________________________________________________________\n",
      "activation_1 (Activation)    (None, 100, 100, 8)       0         \n",
      "_________________________________________________________________\n",
      "max_pooling2d_1 (MaxPooling2 (None, 34, 34, 8)         0         \n",
      "_________________________________________________________________\n",
      "conv1 (Conv2D)               (None, 33, 33, 16)        528       \n",
      "_________________________________________________________________\n",
      "activation_2 (Activation)    (None, 33, 33, 16)        0         \n",
      "_________________________________________________________________\n",
      "max_pooling2d_2 (MaxPooling2 (None, 9, 9, 16)          0         \n",
      "_________________________________________________________________\n",
      "flatten_1 (Flatten)          (None, 1296)              0         \n",
      "_________________________________________________________________\n",
      "dense_1 (Dense)              (None, 128)               166016    \n",
      "_________________________________________________________________\n",
      "dense_2 (Dense)              (None, 1)                 129       \n",
      "=================================================================\n",
      "Total params: 167,065\n",
      "Trainable params: 167,065\n",
      "Non-trainable params: 0\n",
      "_________________________________________________________________\n"
     ]
    }
   ],
   "source": [
    "X_input= Input((100,100,3))\n",
    "x=Conv2D(8,(4,4),strides=1,padding='SAME',kernel_initializer='glorot_normal',bias_initializer='zeros',kernel_regularizer=regularizers.l2(0.01))(X_input)\n",
    "x=Activation('relu')(x)\n",
    "x=MaxPooling2D(pool_size=(5,5), strides=3, padding='SAME')(x)\n",
    "x=Conv2D(16,(2,2),strides=1,name='conv1',kernel_initializer='glorot_normal',bias_initializer='zeros',kernel_regularizer=regularizers.l2(0.01))(x)\n",
    "x=Activation('relu')(x)\n",
    "x=MaxPooling2D(pool_size=(4,4), strides=4, padding='SAME')(x)\n",
    "x=Flatten()(x)\n",
    "x=Dense(128, activation='relu')(x)\n",
    "#x=Activation('sigmoid')(x)\n",
    "x=Dense(1, activation='sigmoid')(x)\n",
    "new_model=Model(inputs=X_input,outputs= x)\n",
    "new_model.summary()\n"
   ]
  },
  {
   "cell_type": "markdown",
   "metadata": {},
   "source": [
    "COMPILING THE MODEL"
   ]
  },
  {
   "cell_type": "code",
   "execution_count": 7,
   "metadata": {},
   "outputs": [],
   "source": [
    "opt= keras.optimizers.Adam(learning_rate=0.001)\n",
    "new_model.compile(optimizer=opt, loss='binary_crossentropy', metrics=['accuracy'])"
   ]
  },
  {
   "cell_type": "markdown",
   "metadata": {},
   "source": [
    "MODEL TRAINING"
   ]
  },
  {
   "cell_type": "code",
   "execution_count": 8,
   "metadata": {
    "scrolled": true
   },
   "outputs": [
    {
     "name": "stdout",
     "output_type": "stream",
     "text": [
      "Epoch 1/200\n",
      "1200/1200 [==============================] - 3s 2ms/step - loss: 0.8381 - accuracy: 0.5442\n",
      "Epoch 2/200\n",
      "1200/1200 [==============================] - 1s 793us/step - loss: 0.7966 - accuracy: 0.5900\n",
      "Epoch 3/200\n",
      "1200/1200 [==============================] - 1s 791us/step - loss: 0.7743 - accuracy: 0.5992\n",
      "Epoch 4/200\n",
      "1200/1200 [==============================] - 1s 792us/step - loss: 0.7471 - accuracy: 0.6383\n",
      "Epoch 5/200\n",
      "1200/1200 [==============================] - 1s 811us/step - loss: 0.7275 - accuracy: 0.6442\n",
      "Epoch 6/200\n",
      "1200/1200 [==============================] - 1s 806us/step - loss: 0.7143 - accuracy: 0.6658\n",
      "Epoch 7/200\n",
      "1200/1200 [==============================] - 1s 796us/step - loss: 0.6930 - accuracy: 0.6650\n",
      "Epoch 8/200\n",
      "1200/1200 [==============================] - 1s 793us/step - loss: 0.6966 - accuracy: 0.6742\n",
      "Epoch 9/200\n",
      "1200/1200 [==============================] - 1s 806us/step - loss: 0.6732 - accuracy: 0.6858\n",
      "Epoch 10/200\n",
      "1200/1200 [==============================] - 1s 867us/step - loss: 0.6577 - accuracy: 0.6975\n",
      "Epoch 11/200\n",
      "1200/1200 [==============================] - 1s 803us/step - loss: 0.6625 - accuracy: 0.6792\n",
      "Epoch 12/200\n",
      "1200/1200 [==============================] - 1s 836us/step - loss: 0.6436 - accuracy: 0.7067\n",
      "Epoch 13/200\n",
      "1200/1200 [==============================] - 1s 862us/step - loss: 0.6355 - accuracy: 0.7075\n",
      "Epoch 14/200\n",
      "1200/1200 [==============================] - 1s 807us/step - loss: 0.6214 - accuracy: 0.7158\n",
      "Epoch 15/200\n",
      "1200/1200 [==============================] - 1s 824us/step - loss: 0.6141 - accuracy: 0.7333\n",
      "Epoch 16/200\n",
      "1200/1200 [==============================] - 1s 872us/step - loss: 0.6133 - accuracy: 0.7242\n",
      "Epoch 17/200\n",
      "1200/1200 [==============================] - 1s 842us/step - loss: 0.6036 - accuracy: 0.7367\n",
      "Epoch 18/200\n",
      "1200/1200 [==============================] - 1s 850us/step - loss: 0.6043 - accuracy: 0.7375\n",
      "Epoch 19/200\n",
      "1200/1200 [==============================] - 1s 869us/step - loss: 0.6051 - accuracy: 0.7242\n",
      "Epoch 20/200\n",
      "1200/1200 [==============================] - 1s 853us/step - loss: 0.5840 - accuracy: 0.7433\n",
      "Epoch 21/200\n",
      "1200/1200 [==============================] - 1s 866us/step - loss: 0.5867 - accuracy: 0.7433\n",
      "Epoch 22/200\n",
      "1200/1200 [==============================] - 1s 853us/step - loss: 0.5781 - accuracy: 0.7500\n",
      "Epoch 23/200\n",
      "1200/1200 [==============================] - 1s 854us/step - loss: 0.5594 - accuracy: 0.7592\n",
      "Epoch 24/200\n",
      "1200/1200 [==============================] - 1s 839us/step - loss: 0.5479 - accuracy: 0.7758\n",
      "Epoch 25/200\n",
      "1200/1200 [==============================] - 1s 799us/step - loss: 0.5580 - accuracy: 0.7575\n",
      "Epoch 26/200\n",
      "1200/1200 [==============================] - 1s 789us/step - loss: 0.5394 - accuracy: 0.7767\n",
      "Epoch 27/200\n",
      "1200/1200 [==============================] - 1s 796us/step - loss: 0.5387 - accuracy: 0.7667\n",
      "Epoch 28/200\n",
      "1200/1200 [==============================] - 1s 794us/step - loss: 0.5435 - accuracy: 0.7742\n",
      "Epoch 29/200\n",
      "1200/1200 [==============================] - 1s 801us/step - loss: 0.5250 - accuracy: 0.7783\n",
      "Epoch 30/200\n",
      "1200/1200 [==============================] - 1s 797us/step - loss: 0.5241 - accuracy: 0.7967\n",
      "Epoch 31/200\n",
      "1200/1200 [==============================] - 1s 802us/step - loss: 0.5313 - accuracy: 0.7867\n",
      "Epoch 32/200\n",
      "1200/1200 [==============================] - 1s 793us/step - loss: 0.5213 - accuracy: 0.7758\n",
      "Epoch 33/200\n",
      "1200/1200 [==============================] - 1s 794us/step - loss: 0.5116 - accuracy: 0.7958\n",
      "Epoch 34/200\n",
      "1200/1200 [==============================] - 1s 859us/step - loss: 0.4938 - accuracy: 0.7992\n",
      "Epoch 35/200\n",
      "1200/1200 [==============================] - 1s 905us/step - loss: 0.4900 - accuracy: 0.8108\n",
      "Epoch 36/200\n",
      "1200/1200 [==============================] - 1s 850us/step - loss: 0.4987 - accuracy: 0.7883\n",
      "Epoch 37/200\n",
      "1200/1200 [==============================] - 1s 883us/step - loss: 0.4862 - accuracy: 0.8142\n",
      "Epoch 38/200\n",
      "1200/1200 [==============================] - 1s 934us/step - loss: 0.5110 - accuracy: 0.7908\n",
      "Epoch 39/200\n",
      "1200/1200 [==============================] - 1s 876us/step - loss: 0.4747 - accuracy: 0.8067\n",
      "Epoch 40/200\n",
      "1200/1200 [==============================] - 1s 864us/step - loss: 0.4780 - accuracy: 0.8117\n",
      "Epoch 41/200\n",
      "1200/1200 [==============================] - 1s 849us/step - loss: 0.4583 - accuracy: 0.83250s - loss: 0.452\n",
      "Epoch 42/200\n",
      "1200/1200 [==============================] - 1s 827us/step - loss: 0.4441 - accuracy: 0.8242\n",
      "Epoch 43/200\n",
      "1200/1200 [==============================] - 1s 825us/step - loss: 0.4432 - accuracy: 0.8300\n",
      "Epoch 44/200\n",
      "1200/1200 [==============================] - 1s 823us/step - loss: 0.4584 - accuracy: 0.8267\n",
      "Epoch 45/200\n",
      "1200/1200 [==============================] - 1s 825us/step - loss: 0.4639 - accuracy: 0.8117\n",
      "Epoch 46/200\n",
      "1200/1200 [==============================] - 1s 834us/step - loss: 0.4611 - accuracy: 0.8133\n",
      "Epoch 47/200\n",
      "1200/1200 [==============================] - 1s 827us/step - loss: 0.4316 - accuracy: 0.8467\n",
      "Epoch 48/200\n",
      "1200/1200 [==============================] - 1s 823us/step - loss: 0.4213 - accuracy: 0.8475\n",
      "Epoch 49/200\n",
      "1200/1200 [==============================] - 1s 831us/step - loss: 0.4234 - accuracy: 0.8575\n",
      "Epoch 50/200\n",
      "1200/1200 [==============================] - 1s 830us/step - loss: 0.4061 - accuracy: 0.8533\n",
      "Epoch 51/200\n",
      "1200/1200 [==============================] - 1s 828us/step - loss: 0.4032 - accuracy: 0.8658\n",
      "Epoch 52/200\n",
      "1200/1200 [==============================] - 1s 825us/step - loss: 0.3989 - accuracy: 0.8575\n",
      "Epoch 53/200\n",
      "1200/1200 [==============================] - 1s 845us/step - loss: 0.3889 - accuracy: 0.8700\n",
      "Epoch 54/200\n",
      "1200/1200 [==============================] - 1s 844us/step - loss: 0.3765 - accuracy: 0.8792\n",
      "Epoch 55/200\n",
      "1200/1200 [==============================] - 1s 828us/step - loss: 0.3788 - accuracy: 0.8808\n",
      "Epoch 56/200\n",
      "1200/1200 [==============================] - 1s 828us/step - loss: 0.3753 - accuracy: 0.8775\n",
      "Epoch 57/200\n",
      "1200/1200 [==============================] - 1s 826us/step - loss: 0.3636 - accuracy: 0.8858\n",
      "Epoch 58/200\n",
      "1200/1200 [==============================] - 1s 828us/step - loss: 0.3744 - accuracy: 0.8708\n",
      "Epoch 59/200\n",
      "1200/1200 [==============================] - 1s 834us/step - loss: 0.3669 - accuracy: 0.8775\n",
      "Epoch 60/200\n",
      "1200/1200 [==============================] - 1s 823us/step - loss: 0.3493 - accuracy: 0.8942\n",
      "Epoch 61/200\n",
      "1200/1200 [==============================] - 1s 829us/step - loss: 0.3477 - accuracy: 0.8917\n",
      "Epoch 62/200\n",
      "1200/1200 [==============================] - 1s 832us/step - loss: 0.3337 - accuracy: 0.9033\n",
      "Epoch 63/200\n",
      "1200/1200 [==============================] - 1s 829us/step - loss: 0.3406 - accuracy: 0.8892\n",
      "Epoch 64/200\n",
      "1200/1200 [==============================] - 1s 829us/step - loss: 0.3287 - accuracy: 0.8983\n",
      "Epoch 65/200\n",
      "1200/1200 [==============================] - 1s 829us/step - loss: 0.3615 - accuracy: 0.8850\n",
      "Epoch 66/200\n",
      "1200/1200 [==============================] - 1s 829us/step - loss: 0.3241 - accuracy: 0.9042\n",
      "Epoch 67/200\n",
      "1200/1200 [==============================] - 1s 831us/step - loss: 0.3153 - accuracy: 0.9108\n",
      "Epoch 68/200\n",
      "1200/1200 [==============================] - 1s 827us/step - loss: 0.3294 - accuracy: 0.8983\n",
      "Epoch 69/200\n",
      "1200/1200 [==============================] - 1s 851us/step - loss: 0.3274 - accuracy: 0.8983\n",
      "Epoch 70/200\n",
      "1200/1200 [==============================] - 1s 844us/step - loss: 0.2959 - accuracy: 0.9233\n",
      "Epoch 71/200\n",
      "1200/1200 [==============================] - 1s 844us/step - loss: 0.2957 - accuracy: 0.9192\n",
      "Epoch 72/200\n",
      "1200/1200 [==============================] - 1s 936us/step - loss: 0.3058 - accuracy: 0.9142\n",
      "Epoch 73/200\n",
      "1200/1200 [==============================] - 1s 902us/step - loss: 0.2894 - accuracy: 0.9217\n",
      "Epoch 74/200\n",
      "1200/1200 [==============================] - 1s 910us/step - loss: 0.2919 - accuracy: 0.9192\n",
      "Epoch 75/200\n",
      "1200/1200 [==============================] - 1s 872us/step - loss: 0.3020 - accuracy: 0.9108\n",
      "Epoch 76/200\n",
      "1200/1200 [==============================] - 1s 872us/step - loss: 0.2939 - accuracy: 0.9208\n",
      "Epoch 77/200\n",
      "1200/1200 [==============================] - 1s 825us/step - loss: 0.3148 - accuracy: 0.8892\n",
      "Epoch 78/200\n",
      "1200/1200 [==============================] - 1s 916us/step - loss: 0.2954 - accuracy: 0.9142\n",
      "Epoch 79/200\n",
      "1200/1200 [==============================] - 1s 892us/step - loss: 0.2619 - accuracy: 0.9475\n",
      "Epoch 80/200\n",
      "1200/1200 [==============================] - 1s 882us/step - loss: 0.2569 - accuracy: 0.9458\n",
      "Epoch 81/200\n",
      "1200/1200 [==============================] - 1s 857us/step - loss: 0.2497 - accuracy: 0.9492\n",
      "Epoch 82/200\n",
      "1200/1200 [==============================] - 1s 861us/step - loss: 0.2490 - accuracy: 0.9458\n",
      "Epoch 83/200\n",
      "1200/1200 [==============================] - 1s 852us/step - loss: 0.2562 - accuracy: 0.9342\n",
      "Epoch 84/200\n",
      "1200/1200 [==============================] - 1s 899us/step - loss: 0.2377 - accuracy: 0.9625\n",
      "Epoch 85/200\n",
      "1200/1200 [==============================] - 1s 903us/step - loss: 0.2363 - accuracy: 0.9575\n",
      "Epoch 86/200\n",
      "1200/1200 [==============================] - 1s 868us/step - loss: 0.2479 - accuracy: 0.9458\n",
      "Epoch 87/200\n",
      "1200/1200 [==============================] - 1s 880us/step - loss: 0.2472 - accuracy: 0.9467\n",
      "Epoch 88/200\n",
      "1200/1200 [==============================] - 1s 891us/step - loss: 0.2245 - accuracy: 0.9658\n",
      "Epoch 89/200\n",
      "1200/1200 [==============================] - 1s 870us/step - loss: 0.2286 - accuracy: 0.9617\n",
      "Epoch 90/200\n",
      "1200/1200 [==============================] - 1s 839us/step - loss: 0.2174 - accuracy: 0.9675\n",
      "Epoch 91/200\n",
      "1200/1200 [==============================] - 1s 890us/step - loss: 0.2131 - accuracy: 0.9717\n",
      "Epoch 92/200\n",
      "1200/1200 [==============================] - 1s 898us/step - loss: 0.2149 - accuracy: 0.9667\n",
      "Epoch 93/200\n",
      "1200/1200 [==============================] - 1s 842us/step - loss: 0.2251 - accuracy: 0.9608\n",
      "Epoch 94/200\n",
      "1200/1200 [==============================] - 1s 872us/step - loss: 0.2099 - accuracy: 0.9658\n",
      "Epoch 95/200\n",
      "1200/1200 [==============================] - 1s 859us/step - loss: 0.2177 - accuracy: 0.9617\n",
      "Epoch 96/200\n",
      "1200/1200 [==============================] - 1s 849us/step - loss: 0.1986 - accuracy: 0.9750\n",
      "Epoch 97/200\n",
      "1200/1200 [==============================] - 1s 892us/step - loss: 0.1982 - accuracy: 0.9733\n",
      "Epoch 98/200\n",
      "1200/1200 [==============================] - 1s 907us/step - loss: 0.2315 - accuracy: 0.9508\n",
      "Epoch 99/200\n",
      "1200/1200 [==============================] - 1s 871us/step - loss: 0.2258 - accuracy: 0.9567\n",
      "Epoch 100/200\n",
      "1200/1200 [==============================] - 1s 849us/step - loss: 0.2077 - accuracy: 0.9658\n",
      "Epoch 101/200\n",
      "1200/1200 [==============================] - 1s 922us/step - loss: 0.1955 - accuracy: 0.9750\n",
      "Epoch 102/200\n",
      "1200/1200 [==============================] - 1s 869us/step - loss: 0.2228 - accuracy: 0.9542\n",
      "Epoch 103/200\n",
      "1200/1200 [==============================] - 1s 868us/step - loss: 0.1949 - accuracy: 0.9750\n",
      "Epoch 104/200\n",
      "1200/1200 [==============================] - 1s 828us/step - loss: 0.1873 - accuracy: 0.9825\n",
      "Epoch 105/200\n",
      " 800/1200 [===================>..........] - ETA: 0s - loss: 0.1694 - accuracy: 0.9862"
     ]
    },
    {
     "ename": "KeyboardInterrupt",
     "evalue": "",
     "output_type": "error",
     "traceback": [
      "\u001b[1;31m---------------------------------------------------------------------------\u001b[0m",
      "\u001b[1;31mKeyboardInterrupt\u001b[0m                         Traceback (most recent call last)",
      "\u001b[1;32m<ipython-input-8-6b5737b6a401>\u001b[0m in \u001b[0;36m<module>\u001b[1;34m\u001b[0m\n\u001b[1;32m----> 1\u001b[1;33m \u001b[0mnew_model\u001b[0m\u001b[1;33m.\u001b[0m\u001b[0mfit\u001b[0m\u001b[1;33m(\u001b[0m\u001b[0mtrain_X\u001b[0m\u001b[1;33m,\u001b[0m\u001b[0mtrain_Y\u001b[0m\u001b[1;33m,\u001b[0m\u001b[0mepochs\u001b[0m\u001b[1;33m=\u001b[0m\u001b[1;36m200\u001b[0m\u001b[1;33m,\u001b[0m\u001b[0mbatch_size\u001b[0m\u001b[1;33m=\u001b[0m\u001b[1;36m100\u001b[0m\u001b[1;33m,\u001b[0m\u001b[0mverbose\u001b[0m\u001b[1;33m=\u001b[0m\u001b[1;36m1\u001b[0m\u001b[1;33m)\u001b[0m\u001b[1;33m\u001b[0m\u001b[1;33m\u001b[0m\u001b[0m\n\u001b[0m",
      "\u001b[1;32m~\\Anaconda3\\envs\\Tensorflow-gpu\\lib\\site-packages\\keras\\engine\\training.py\u001b[0m in \u001b[0;36mfit\u001b[1;34m(self, x, y, batch_size, epochs, verbose, callbacks, validation_split, validation_data, shuffle, class_weight, sample_weight, initial_epoch, steps_per_epoch, validation_steps, validation_freq, max_queue_size, workers, use_multiprocessing, **kwargs)\u001b[0m\n\u001b[0;32m   1237\u001b[0m                                         \u001b[0msteps_per_epoch\u001b[0m\u001b[1;33m=\u001b[0m\u001b[0msteps_per_epoch\u001b[0m\u001b[1;33m,\u001b[0m\u001b[1;33m\u001b[0m\u001b[1;33m\u001b[0m\u001b[0m\n\u001b[0;32m   1238\u001b[0m                                         \u001b[0mvalidation_steps\u001b[0m\u001b[1;33m=\u001b[0m\u001b[0mvalidation_steps\u001b[0m\u001b[1;33m,\u001b[0m\u001b[1;33m\u001b[0m\u001b[1;33m\u001b[0m\u001b[0m\n\u001b[1;32m-> 1239\u001b[1;33m                                         validation_freq=validation_freq)\n\u001b[0m\u001b[0;32m   1240\u001b[0m \u001b[1;33m\u001b[0m\u001b[0m\n\u001b[0;32m   1241\u001b[0m     def evaluate(self,\n",
      "\u001b[1;32m~\\Anaconda3\\envs\\Tensorflow-gpu\\lib\\site-packages\\keras\\engine\\training_arrays.py\u001b[0m in \u001b[0;36mfit_loop\u001b[1;34m(model, fit_function, fit_inputs, out_labels, batch_size, epochs, verbose, callbacks, val_function, val_inputs, shuffle, initial_epoch, steps_per_epoch, validation_steps, validation_freq)\u001b[0m\n\u001b[0;32m    184\u001b[0m                             fit_inputs[:-1], batch_ids) + [fit_inputs[-1]]\n\u001b[0;32m    185\u001b[0m                     \u001b[1;32melse\u001b[0m\u001b[1;33m:\u001b[0m\u001b[1;33m\u001b[0m\u001b[1;33m\u001b[0m\u001b[0m\n\u001b[1;32m--> 186\u001b[1;33m                         \u001b[0mins_batch\u001b[0m \u001b[1;33m=\u001b[0m \u001b[0mslice_arrays\u001b[0m\u001b[1;33m(\u001b[0m\u001b[0mfit_inputs\u001b[0m\u001b[1;33m,\u001b[0m \u001b[0mbatch_ids\u001b[0m\u001b[1;33m)\u001b[0m\u001b[1;33m\u001b[0m\u001b[1;33m\u001b[0m\u001b[0m\n\u001b[0m\u001b[0;32m    187\u001b[0m                 \u001b[1;32mexcept\u001b[0m \u001b[0mTypeError\u001b[0m\u001b[1;33m:\u001b[0m\u001b[1;33m\u001b[0m\u001b[1;33m\u001b[0m\u001b[0m\n\u001b[0;32m    188\u001b[0m                     raise TypeError('TypeError while preparing batch. '\n",
      "\u001b[1;32m~\\Anaconda3\\envs\\Tensorflow-gpu\\lib\\site-packages\\keras\\utils\\generic_utils.py\u001b[0m in \u001b[0;36mslice_arrays\u001b[1;34m(arrays, start, stop)\u001b[0m\n\u001b[0;32m    553\u001b[0m             \u001b[1;32mif\u001b[0m \u001b[0mhasattr\u001b[0m\u001b[1;33m(\u001b[0m\u001b[0mstart\u001b[0m\u001b[1;33m,\u001b[0m \u001b[1;34m'shape'\u001b[0m\u001b[1;33m)\u001b[0m\u001b[1;33m:\u001b[0m\u001b[1;33m\u001b[0m\u001b[1;33m\u001b[0m\u001b[0m\n\u001b[0;32m    554\u001b[0m                 \u001b[0mstart\u001b[0m \u001b[1;33m=\u001b[0m \u001b[0mstart\u001b[0m\u001b[1;33m.\u001b[0m\u001b[0mtolist\u001b[0m\u001b[1;33m(\u001b[0m\u001b[1;33m)\u001b[0m\u001b[1;33m\u001b[0m\u001b[1;33m\u001b[0m\u001b[0m\n\u001b[1;32m--> 555\u001b[1;33m             \u001b[1;32mreturn\u001b[0m \u001b[1;33m[\u001b[0m\u001b[1;32mNone\u001b[0m \u001b[1;32mif\u001b[0m \u001b[0mx\u001b[0m \u001b[1;32mis\u001b[0m \u001b[1;32mNone\u001b[0m \u001b[1;32melse\u001b[0m \u001b[0mx\u001b[0m\u001b[1;33m[\u001b[0m\u001b[0mstart\u001b[0m\u001b[1;33m]\u001b[0m \u001b[1;32mfor\u001b[0m \u001b[0mx\u001b[0m \u001b[1;32min\u001b[0m \u001b[0marrays\u001b[0m\u001b[1;33m]\u001b[0m\u001b[1;33m\u001b[0m\u001b[1;33m\u001b[0m\u001b[0m\n\u001b[0m\u001b[0;32m    556\u001b[0m         \u001b[1;32melse\u001b[0m\u001b[1;33m:\u001b[0m\u001b[1;33m\u001b[0m\u001b[1;33m\u001b[0m\u001b[0m\n\u001b[0;32m    557\u001b[0m             \u001b[1;32mreturn\u001b[0m \u001b[1;33m[\u001b[0m\u001b[1;32mNone\u001b[0m \u001b[1;32mif\u001b[0m \u001b[0mx\u001b[0m \u001b[1;32mis\u001b[0m \u001b[1;32mNone\u001b[0m \u001b[1;32melse\u001b[0m \u001b[0mx\u001b[0m\u001b[1;33m[\u001b[0m\u001b[0mstart\u001b[0m\u001b[1;33m:\u001b[0m\u001b[0mstop\u001b[0m\u001b[1;33m]\u001b[0m \u001b[1;32mfor\u001b[0m \u001b[0mx\u001b[0m \u001b[1;32min\u001b[0m \u001b[0marrays\u001b[0m\u001b[1;33m]\u001b[0m\u001b[1;33m\u001b[0m\u001b[1;33m\u001b[0m\u001b[0m\n",
      "\u001b[1;32m~\\Anaconda3\\envs\\Tensorflow-gpu\\lib\\site-packages\\keras\\utils\\generic_utils.py\u001b[0m in \u001b[0;36m<listcomp>\u001b[1;34m(.0)\u001b[0m\n\u001b[0;32m    553\u001b[0m             \u001b[1;32mif\u001b[0m \u001b[0mhasattr\u001b[0m\u001b[1;33m(\u001b[0m\u001b[0mstart\u001b[0m\u001b[1;33m,\u001b[0m \u001b[1;34m'shape'\u001b[0m\u001b[1;33m)\u001b[0m\u001b[1;33m:\u001b[0m\u001b[1;33m\u001b[0m\u001b[1;33m\u001b[0m\u001b[0m\n\u001b[0;32m    554\u001b[0m                 \u001b[0mstart\u001b[0m \u001b[1;33m=\u001b[0m \u001b[0mstart\u001b[0m\u001b[1;33m.\u001b[0m\u001b[0mtolist\u001b[0m\u001b[1;33m(\u001b[0m\u001b[1;33m)\u001b[0m\u001b[1;33m\u001b[0m\u001b[1;33m\u001b[0m\u001b[0m\n\u001b[1;32m--> 555\u001b[1;33m             \u001b[1;32mreturn\u001b[0m \u001b[1;33m[\u001b[0m\u001b[1;32mNone\u001b[0m \u001b[1;32mif\u001b[0m \u001b[0mx\u001b[0m \u001b[1;32mis\u001b[0m \u001b[1;32mNone\u001b[0m \u001b[1;32melse\u001b[0m \u001b[0mx\u001b[0m\u001b[1;33m[\u001b[0m\u001b[0mstart\u001b[0m\u001b[1;33m]\u001b[0m \u001b[1;32mfor\u001b[0m \u001b[0mx\u001b[0m \u001b[1;32min\u001b[0m \u001b[0marrays\u001b[0m\u001b[1;33m]\u001b[0m\u001b[1;33m\u001b[0m\u001b[1;33m\u001b[0m\u001b[0m\n\u001b[0m\u001b[0;32m    556\u001b[0m         \u001b[1;32melse\u001b[0m\u001b[1;33m:\u001b[0m\u001b[1;33m\u001b[0m\u001b[1;33m\u001b[0m\u001b[0m\n\u001b[0;32m    557\u001b[0m             \u001b[1;32mreturn\u001b[0m \u001b[1;33m[\u001b[0m\u001b[1;32mNone\u001b[0m \u001b[1;32mif\u001b[0m \u001b[0mx\u001b[0m \u001b[1;32mis\u001b[0m \u001b[1;32mNone\u001b[0m \u001b[1;32melse\u001b[0m \u001b[0mx\u001b[0m\u001b[1;33m[\u001b[0m\u001b[0mstart\u001b[0m\u001b[1;33m:\u001b[0m\u001b[0mstop\u001b[0m\u001b[1;33m]\u001b[0m \u001b[1;32mfor\u001b[0m \u001b[0mx\u001b[0m \u001b[1;32min\u001b[0m \u001b[0marrays\u001b[0m\u001b[1;33m]\u001b[0m\u001b[1;33m\u001b[0m\u001b[1;33m\u001b[0m\u001b[0m\n",
      "\u001b[1;31mKeyboardInterrupt\u001b[0m: "
     ]
    }
   ],
   "source": [
    "new_model.fit(train_X,train_Y,epochs=200,batch_size=100,verbose=1)"
   ]
  },
  {
   "cell_type": "markdown",
   "metadata": {},
   "source": [
    "MODEL TESTING/VALIDATION"
   ]
  },
  {
   "cell_type": "code",
   "execution_count": 17,
   "metadata": {},
   "outputs": [],
   "source": [
    "result=new_model.evaluate(x=test_X,y=test_Y,verbose=0)"
   ]
  },
  {
   "cell_type": "code",
   "execution_count": 16,
   "metadata": {},
   "outputs": [
    {
     "data": {
      "text/plain": [
       "[0.17549513777097067, 0.9858333468437195]"
      ]
     },
     "execution_count": 16,
     "metadata": {},
     "output_type": "execute_result"
    }
   ],
   "source": [
    "result"
   ]
  },
  {
   "cell_type": "code",
   "execution_count": null,
   "metadata": {},
   "outputs": [],
   "source": []
  }
 ],
 "metadata": {
  "kernelspec": {
   "display_name": "Python 3",
   "language": "python",
   "name": "python3"
  },
  "language_info": {
   "codemirror_mode": {
    "name": "ipython",
    "version": 3
   },
   "file_extension": ".py",
   "mimetype": "text/x-python",
   "name": "python",
   "nbconvert_exporter": "python",
   "pygments_lexer": "ipython3",
   "version": "3.7.4"
  }
 },
 "nbformat": 4,
 "nbformat_minor": 2
}
