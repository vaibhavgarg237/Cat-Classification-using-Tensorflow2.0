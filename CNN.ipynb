{
  "nbformat": 4,
  "nbformat_minor": 0,
  "metadata": {
    "colab": {
      "name": "CNN.ipynb",
      "provenance": [],
      "collapsed_sections": []
    },
    "kernelspec": {
      "name": "python3",
      "display_name": "Python 3"
    }
  },
  "cells": [
    {
      "cell_type": "code",
      "metadata": {
        "id": "XwOkZxbhIa0O"
      },
      "source": [
        "import pandas as pd\n",
        "import numpy as np\n",
        "import matplotlib.pyplot as plt\n",
        "import os\n",
        "import math\n",
        "import sklearn.metrics as skm\n",
        "from keras.models import Sequential\n",
        "from keras.layers import Dense\n",
        "from keras.layers import Flatten\n",
        "from keras.layers.convolutional import Conv1D\n",
        "from keras.layers.convolutional import MaxPooling1D"
      ],
      "execution_count": null,
      "outputs": []
    },
    {
      "cell_type": "code",
      "metadata": {
        "colab": {
          "base_uri": "https://localhost:8080/",
          "height": 340
        },
        "id": "CtZfB1kQJQfH",
        "outputId": "1aa96eff-9235-4da8-fae2-e092b3e07c1a"
      },
      "source": [
        "os.chdir('/content/drive/MyDrive/Electrical Load Forecasting/')\n",
        "df = pd.read_csv('/content/drive/MyDrive/Electrical Load Forecasting/household_power_consumption.csv',header=0,infer_datetime_format=True,parse_dates=['datetime'],index_col=['datetime'])\n",
        "daily_grp = df.resample('D') #This allows data to be grouped by day.\n",
        "df_daily = daily_grp.sum() # Sum of all observations for each day\n",
        "df_daily.head()"
      ],
      "execution_count": null,
      "outputs": [
        {
          "output_type": "execute_result",
          "data": {
            "text/html": [
              "<div>\n",
              "<style scoped>\n",
              "    .dataframe tbody tr th:only-of-type {\n",
              "        vertical-align: middle;\n",
              "    }\n",
              "\n",
              "    .dataframe tbody tr th {\n",
              "        vertical-align: top;\n",
              "    }\n",
              "\n",
              "    .dataframe thead th {\n",
              "        text-align: right;\n",
              "    }\n",
              "</style>\n",
              "<table border=\"1\" class=\"dataframe\">\n",
              "  <thead>\n",
              "    <tr style=\"text-align: right;\">\n",
              "      <th></th>\n",
              "      <th>Global_active_power</th>\n",
              "      <th>Global_reactive_power</th>\n",
              "      <th>Voltage</th>\n",
              "      <th>Global_intensity</th>\n",
              "      <th>Sub_metering_1</th>\n",
              "      <th>Sub_metering_2</th>\n",
              "      <th>Sub_metering_3</th>\n",
              "      <th>sub_metering_4</th>\n",
              "    </tr>\n",
              "    <tr>\n",
              "      <th>datetime</th>\n",
              "      <th></th>\n",
              "      <th></th>\n",
              "      <th></th>\n",
              "      <th></th>\n",
              "      <th></th>\n",
              "      <th></th>\n",
              "      <th></th>\n",
              "      <th></th>\n",
              "    </tr>\n",
              "  </thead>\n",
              "  <tbody>\n",
              "    <tr>\n",
              "      <th>2006-12-16</th>\n",
              "      <td>1209.176</td>\n",
              "      <td>34.922</td>\n",
              "      <td>93552.53</td>\n",
              "      <td>5180.8</td>\n",
              "      <td>0.0</td>\n",
              "      <td>546.0</td>\n",
              "      <td>4926.0</td>\n",
              "      <td>14680.933333</td>\n",
              "    </tr>\n",
              "    <tr>\n",
              "      <th>2006-12-17</th>\n",
              "      <td>3390.460</td>\n",
              "      <td>226.006</td>\n",
              "      <td>345725.32</td>\n",
              "      <td>14398.6</td>\n",
              "      <td>2033.0</td>\n",
              "      <td>4187.0</td>\n",
              "      <td>13341.0</td>\n",
              "      <td>36946.666667</td>\n",
              "    </tr>\n",
              "    <tr>\n",
              "      <th>2006-12-18</th>\n",
              "      <td>2203.826</td>\n",
              "      <td>161.792</td>\n",
              "      <td>347373.64</td>\n",
              "      <td>9247.2</td>\n",
              "      <td>1063.0</td>\n",
              "      <td>2621.0</td>\n",
              "      <td>14018.0</td>\n",
              "      <td>19028.433333</td>\n",
              "    </tr>\n",
              "    <tr>\n",
              "      <th>2006-12-19</th>\n",
              "      <td>1666.194</td>\n",
              "      <td>150.942</td>\n",
              "      <td>348479.01</td>\n",
              "      <td>7094.0</td>\n",
              "      <td>839.0</td>\n",
              "      <td>7602.0</td>\n",
              "      <td>6197.0</td>\n",
              "      <td>13131.900000</td>\n",
              "    </tr>\n",
              "    <tr>\n",
              "      <th>2006-12-20</th>\n",
              "      <td>2225.748</td>\n",
              "      <td>160.998</td>\n",
              "      <td>348923.61</td>\n",
              "      <td>9313.0</td>\n",
              "      <td>0.0</td>\n",
              "      <td>2648.0</td>\n",
              "      <td>14063.0</td>\n",
              "      <td>20384.800000</td>\n",
              "    </tr>\n",
              "  </tbody>\n",
              "</table>\n",
              "</div>"
            ],
            "text/plain": [
              "            Global_active_power  ...  sub_metering_4\n",
              "datetime                         ...                \n",
              "2006-12-16             1209.176  ...    14680.933333\n",
              "2006-12-17             3390.460  ...    36946.666667\n",
              "2006-12-18             2203.826  ...    19028.433333\n",
              "2006-12-19             1666.194  ...    13131.900000\n",
              "2006-12-20             2225.748  ...    20384.800000\n",
              "\n",
              "[5 rows x 8 columns]"
            ]
          },
          "metadata": {
            "tags": []
          },
          "execution_count": 2
        }
      ]
    },
    {
      "cell_type": "code",
      "metadata": {
        "id": "HWQuzFvYJpCN"
      },
      "source": [
        "# Evaluate one or more weekly forecasts against expected values\n",
        "def evaluate_forecasts(actual,predicted):\n",
        "  # Daily scores\n",
        "  scores = []\n",
        "  for i in range(actual.shape[1]):\n",
        "    mse = skm.mean_squared_error(actual[:,i],predicted[:,i])\n",
        "    rmse = math.sqrt(mse)\n",
        "    scores.append(rmse)\n",
        "  # Overall score\n",
        "  s=0\n",
        "  for row in range(actual.shape[0]):\n",
        "    for col in range(actual.shape[1]):\n",
        "      s += (actual[row,col]-predicted[row,col])**2\n",
        "  score = math.sqrt(s/(actual.shape[0]*actual.shape[1]))\n",
        "  # Returns overall RMSE and array of daily RMSE\n",
        "  return score,scores\n",
        "\n",
        "# Split dataset into test and train\n",
        "def split_dataset(data):\n",
        "  train,test = data[1:-328],data[-328:-6] #322 days = 46 weeks\n",
        "  train = np.array(np.split(train,len(train)//7))\n",
        "  test = np.array(np.split(test,len(test)//7))\n",
        "  return train,test\n",
        "train,test = split_dataset(df_daily.values)\n",
        "\n",
        "# Summarize scores\n",
        "def summarize_scores(name,score,scores):\n",
        "  s_scores = ', '.join(['%.1f'% s for s in scores])\n",
        "  print('%s: [%.3f] %s' % (name,score,s_scores))"
      ],
      "execution_count": null,
      "outputs": []
    },
    {
      "cell_type": "code",
      "metadata": {
        "id": "dozb0LIOLWVX"
      },
      "source": [
        "# Comvert history into inputs and outputs\n",
        "def to_supervised(train,n_input,n_out=7):\n",
        "    data = train.reshape((train.shape[0]*train.shape[1],train.shape[2]))\n",
        "    X,y = [],[]\n",
        "    in_start = 0\n",
        "    for _ in range(len(data)):\n",
        "        in_end = in_start + n_input\n",
        "        out_end = in_end + n_out\n",
        "        if out_end <= len(data):\n",
        "            x_input = data[in_start:in_end,0]\n",
        "            x_input = x_input.reshape((len(x_input),1))\n",
        "            X.append(x_input)\n",
        "            y.append(data[in_end:out_end,0])\n",
        "        in_start += 1\n",
        "    return np.array(X),np.array(y)\n",
        "\n",
        "# train the model\n",
        "def build_model(train,n_input):\n",
        "    train_x,train_y = to_supervised(train,n_input)\n",
        "    verbose,epochs,batch_size = 0,20,4\n",
        "    n_timesteps, n_features, n_outputs = train_x.shape[1],train_x.shape[2],train_y.shape[1]\n",
        "    model = Sequential()\n",
        "    model.add(Conv1D(filters=16, kernel_size=3, activation='relu', input_shape=(n_timesteps,n_features)))\n",
        "    model.add(MaxPooling1D(pool_size=2))\n",
        "    model.add(Flatten())\n",
        "    model.add(Dense(10,activation='relu'))\n",
        "    model.add(Dense(n_outputs))\n",
        "    model.compile(loss='mse',optimizer='adam')\n",
        "    model.fit(train_x,train_y,epochs=epochs,batch_size=batch_size,verbose=verbose)\n",
        "    return model\n",
        "\n",
        "# make a forecast\n",
        "def forecast(model,history,n_input):\n",
        "    data = np.array(history)\n",
        "    data = data.reshape((data.shape[0]*data.shape[1],data.shape[2]))\n",
        "    input_x = data[-n_input:,0]\n",
        "    input_x = input_x.reshape((1,len(input_x),1))\n",
        "    yhat = model.predict(input_x,verbose=0)\n",
        "    yhat = yhat[0]\n",
        "    return yhat\n",
        "\n",
        "# evaluate a single model\n",
        "def evaluate_model(train, test, n_input):\n",
        "    model = build_model(train,n_input)\n",
        "    history = [x for x in train]\n",
        "\t# walk-forward validation over each week\n",
        "    predictions = list()\n",
        "    for i in range(len(test)):\n",
        "        yhat_sequence = forecast(model, history, n_input)\n",
        "        predictions.append(yhat_sequence)\n",
        "        history.append(test[i, :])\n",
        "    predictions = np.array(predictions)\n",
        "    score, scores = evaluate_forecasts(test[:, :, 0], predictions)\n",
        "    return score, scores"
      ],
      "execution_count": null,
      "outputs": []
    },
    {
      "cell_type": "markdown",
      "metadata": {
        "id": "l7NV_sIfi0i6"
      },
      "source": [
        "Convolutional Neural Network models, or CNNs for short, are a type of deep neural network that was developed for use with image data, such as handwriting recognition. They are proven very effective on challenging computer vision problems when trained at scale for tasks such as identifying and localizing objects in images and automatically describing the content of images.\n",
        "\n",
        "They are a model that are comprised of two main types of elements: convolutional layers and pooling layers.\n",
        "* Convolutional layers read an input, such as a 2D image or a 1D signal using a kernel that reads in small segments at a time and steps across the entire input field. Each read results in an interpretation of the input that is projected onto a filter map and represents an interpretation of the input.\n",
        "* Pooling layers take the feature map projections and distill them to the most essential elements, such as using a signal averaging or signal maximizing process.\n",
        "\n",
        "The convolution and pooling layers can be repeated at depth, providing multiple layers of abstraction of the input signals.\n",
        "\n",
        "The output of these networks is often one or more fully-connected layers that interpret what has been read and maps this internal representation to a class value.\n",
        "\n",
        "The convolutional layers can read sequences of input data and automatically extract features.\n",
        "The pooling layers can distill the extracted features and focus attention on the most salient elements. The fully connected layers can interpret the internal representation and output a vector representing multiple time steps. The key benefits of the approach are the automatic feature learning and the ability of the model to output a multi-step vector directly.\n",
        "\n",
        "CNNs can be used in either a recursive or direct forecast strategy, where the model makes one-step predictions and outputs are fed as inputs for subsequent predictions, and where one model is developed for each time step to be predicted. Alternately, CNNs can be used to predict the entire output sequence as a one-step prediction of the entire vector. This is a general benefit of feed-forward neural networks.\n",
        "\n",
        "An important secondary benefit of using CNNs is that they can support multiple 1D inputs in order to make a prediction. This is useful if the multi-step output sequence is a function of more than one input sequence. This can be achieved using two different model configurations.\n",
        "* Multiple Input Channels. This is where each input sequence is read as a separate channel, like the different channels of an image (e.g. red, green and blue).\n",
        "* Multiple Input Heads. This is where each input sequence is read by a different CNN sub-model and the internal representations are combined before being interpreted and used to make a prediction.\n",
        "\n",
        "We will develop different types of CNN models for multi-step time series forecasting:\n",
        "* A CNN for multi-step time series forecasting with univariate input data.\n",
        "* A CNN for multi-step time series forecasting with multivariate input data via channels.\n",
        "\n"
      ]
    },
    {
      "cell_type": "markdown",
      "metadata": {
        "id": "hksLd0qhgWX2"
      },
      "source": [
        "# Univariate CNN "
      ]
    },
    {
      "cell_type": "code",
      "metadata": {
        "colab": {
          "base_uri": "https://localhost:8080/",
          "height": 282
        },
        "id": "5I2f8Kb_ePmK",
        "outputId": "4e955fca-7746-414e-92dd-e6a3a3cd7987"
      },
      "source": [
        "train,test = split_dataset(df_daily.values)\n",
        "n_input = 14\n",
        "score,scores = evaluate_model(train,test,n_input)\n",
        "summarize_scores('cnn',score,scores)\n",
        "days = ['sun','mon','tue','wed','thr','fri','sat']\n",
        "plt.plot(days,scores,marker='o',label='cnn')\n",
        "plt.show()"
      ],
      "execution_count": null,
      "outputs": [
        {
          "output_type": "stream",
          "text": [
            "cnn: [385.809] 401.5, 395.0, 358.0, 377.0, 380.9, 317.4, 456.8\n"
          ],
          "name": "stdout"
        },
        {
          "output_type": "display_data",
          "data": {
            "image/png": "[encoded data removed]",
            "text/plain": [
              "<Figure size 432x288 with 1 Axes>"
            ]
          },
          "metadata": {
            "tags": [],
            "needs_background": "light"
          }
        }
      ]
    },
    {
      "cell_type": "markdown",
      "metadata": {
        "id": "8PGZG0RXgnHo"
      },
      "source": [
        "# Multichannel CNN"
      ]
    },
    {
      "cell_type": "code",
      "metadata": {
        "id": "fR0Pns2-ezAl"
      },
      "source": [
        "# Comvert history into inputs and outputs\n",
        "def to_supervised(train,n_input,n_out=7):\n",
        "    data = train.reshape((train.shape[0]*train.shape[1],train.shape[2]))\n",
        "    X,y = [],[]\n",
        "    in_start = 0\n",
        "    for _ in range(len(data)):\n",
        "        in_end = in_start + n_input\n",
        "        out_end = in_end + n_out\n",
        "        if out_end <= len(data):\n",
        "            X.append(data[in_start:in_end,:])\n",
        "            y.append(data[in_end:out_end,0])\n",
        "        in_start += 1\n",
        "    return np.array(X),np.array(y)\n",
        "\n",
        "# train the model\n",
        "def build_model(train,n_input):\n",
        "    train_x,train_y = to_supervised(train,n_input)\n",
        "    verbose,epochs,batch_size = 0,70,16\n",
        "    n_timesteps, n_features, n_outputs = train_x.shape[1],train_x.shape[2],train_y.shape[1]\n",
        "    model = Sequential()\n",
        "    model.add(Conv1D(filters=32, kernel_size=3, activation='relu', input_shape=(n_timesteps,n_features)))\n",
        "    model.add(Conv1D(filters=32, kernel_size=3, activation='relu'))\n",
        "    model.add(MaxPooling1D(pool_size=2))\n",
        "    model.add(Conv1D(filters=16, kernel_size=3, activation='relu'))\n",
        "    model.add(MaxPooling1D(pool_size=2))\n",
        "    model.add(Flatten())\n",
        "    model.add(Dense(100,activation='relu'))\n",
        "    model.add(Dense(n_outputs))\n",
        "    model.compile(loss='mse',optimizer='adam')\n",
        "    model.fit(train_x,train_y,epochs=epochs,batch_size=batch_size,verbose=verbose)\n",
        "    return model\n",
        "\n",
        "# make a forecast\n",
        "def forecast(model,history,n_input):\n",
        "    data = np.array(history)\n",
        "    data = data.reshape((data.shape[0]*data.shape[1],data.shape[2]))\n",
        "    input_x = data[-n_input:,:]\n",
        "    input_x = input_x.reshape((1,input_x.shape[0],input_x.shape[1]))\n",
        "    yhat = model.predict(input_x,verbose=0)\n",
        "    yhat = yhat[0]\n",
        "    return yhat"
      ],
      "execution_count": null,
      "outputs": []
    },
    {
      "cell_type": "code",
      "metadata": {
        "colab": {
          "base_uri": "https://localhost:8080/",
          "height": 282
        },
        "id": "szT0xceuiW9_",
        "outputId": "bf8a44e8-9f59-487e-81e5-49939a52aba4"
      },
      "source": [
        "train,test = split_dataset(df_daily.values)\n",
        "n_input = 14\n",
        "score,scores = evaluate_model(train,test,n_input)\n",
        "summarize_scores('cnn',score,scores)\n",
        "days = ['sun','mon','tue','wed','thr','fri','sat']\n",
        "plt.plot(days,scores,marker='o',label='cnn')\n",
        "plt.show()"
      ],
      "execution_count": null,
      "outputs": [
        {
          "output_type": "stream",
          "text": [
            "cnn: [418.466] 435.5, 386.9, 360.4, 456.3, 394.3, 327.5, 534.4\n"
          ],
          "name": "stdout"
        },
        {
          "output_type": "display_data",
          "data": {
            "image/png": "[encoded data removed]",
            "text/plain": [
              "<Figure size 432x288 with 1 Axes>"
            ]
          },
          "metadata": {
            "tags": [],
            "needs_background": "light"
          }
        }
      ]
    }
  ]
}